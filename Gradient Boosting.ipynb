{
 "cells": [
  {
   "cell_type": "markdown",
   "id": "2d8c0618",
   "metadata": {},
   "source": [
    "# Machine Learning Algorithms"
   ]
  },
  {
   "cell_type": "code",
   "execution_count": 9,
   "id": "a76428e8",
   "metadata": {},
   "outputs": [],
   "source": [
    "import numpy as np\n",
    "import matplotlib.pyplot as plt\n",
    "import pandas as pd\n",
    "\n",
    "\n",
    "from sklearn.model_selection import train_test_split\n",
    "from sklearn.feature_extraction.text import TfidfVectorizer\n",
    "from sklearn.metrics import accuracy_score, confusion_matrix\n",
    "\n",
    "from sklearn.linear_model import LogisticRegression\n",
    "from sklearn.linear_model import LinearRegression\n",
    "from sklearn.neighbors import KNeighborsClassifier \n",
    "from sklearn.svm import SVC\n",
    "from sklearn.naive_bayes import GaussianNB\n",
    "from sklearn.tree import DecisionTreeClassifier\n",
    "from sklearn.ensemble import RandomForestClassifier\n",
    "\n",
    "\n",
    "from lightgbm import LGBMClassifier\n",
    "import xgboost as xgb\n",
    "from catboost import CatBoostClassifier\n",
    "from sklearn.ensemble import AdaBoostClassifier\n"
   ]
  },
  {
   "cell_type": "code",
   "execution_count": 2,
   "id": "5f785f1b",
   "metadata": {},
   "outputs": [
    {
     "data": {
      "text/html": [
       "<div>\n",
       "<style scoped>\n",
       "    .dataframe tbody tr th:only-of-type {\n",
       "        vertical-align: middle;\n",
       "    }\n",
       "\n",
       "    .dataframe tbody tr th {\n",
       "        vertical-align: top;\n",
       "    }\n",
       "\n",
       "    .dataframe thead th {\n",
       "        text-align: right;\n",
       "    }\n",
       "</style>\n",
       "<table border=\"1\" class=\"dataframe\">\n",
       "  <thead>\n",
       "    <tr style=\"text-align: right;\">\n",
       "      <th></th>\n",
       "      <th>Category</th>\n",
       "      <th>Message</th>\n",
       "    </tr>\n",
       "  </thead>\n",
       "  <tbody>\n",
       "    <tr>\n",
       "      <th>0</th>\n",
       "      <td>0</td>\n",
       "      <td>Go until jurong point, crazy.. Available only ...</td>\n",
       "    </tr>\n",
       "    <tr>\n",
       "      <th>1</th>\n",
       "      <td>0</td>\n",
       "      <td>Ok lar... Joking wif u oni...</td>\n",
       "    </tr>\n",
       "    <tr>\n",
       "      <th>2</th>\n",
       "      <td>1</td>\n",
       "      <td>Free entry in 2 a wkly comp to win FA Cup fina...</td>\n",
       "    </tr>\n",
       "    <tr>\n",
       "      <th>3</th>\n",
       "      <td>0</td>\n",
       "      <td>U dun say so early hor... U c already then say...</td>\n",
       "    </tr>\n",
       "    <tr>\n",
       "      <th>4</th>\n",
       "      <td>0</td>\n",
       "      <td>Nah I don't think he goes to usf, he lives aro...</td>\n",
       "    </tr>\n",
       "  </tbody>\n",
       "</table>\n",
       "</div>"
      ],
      "text/plain": [
       "   Category                                            Message\n",
       "0         0  Go until jurong point, crazy.. Available only ...\n",
       "1         0                      Ok lar... Joking wif u oni...\n",
       "2         1  Free entry in 2 a wkly comp to win FA Cup fina...\n",
       "3         0  U dun say so early hor... U c already then say...\n",
       "4         0  Nah I don't think he goes to usf, he lives aro..."
      ]
     },
     "execution_count": 2,
     "metadata": {},
     "output_type": "execute_result"
    }
   ],
   "source": [
    "df1 = pd.read_csv(\"encoded_emails.csv\")\n",
    "df1.head(5)"
   ]
  },
  {
   "cell_type": "code",
   "execution_count": 3,
   "id": "254e072e",
   "metadata": {},
   "outputs": [],
   "source": [
    "X = df1[\"Message\"]\n",
    "y = df1[\"Category\"]"
   ]
  },
  {
   "cell_type": "code",
   "execution_count": 4,
   "id": "31f60f83",
   "metadata": {},
   "outputs": [],
   "source": [
    "# Text vectorization using TF-IDF\n",
    "vectorizer = TfidfVectorizer()\n",
    "X = vectorizer.fit_transform(X)"
   ]
  },
  {
   "cell_type": "code",
   "execution_count": 5,
   "id": "db8d2271",
   "metadata": {},
   "outputs": [],
   "source": [
    "X_train, X_test, y_train, y_test = train_test_split(X, y, test_size=0.3, random_state=42)"
   ]
  },
  {
   "cell_type": "markdown",
   "id": "1168c67f",
   "metadata": {},
   "source": [
    "# Gradient Boosting Techniques"
   ]
  },
  {
   "cell_type": "code",
   "execution_count": 10,
   "id": "d647a075",
   "metadata": {},
   "outputs": [
    {
     "name": "stderr",
     "output_type": "stream",
     "text": [
      "C:\\ProgramData\\anaconda3\\Lib\\site-packages\\sklearn\\ensemble\\_base.py:166: FutureWarning: `base_estimator` was renamed to `estimator` in version 1.2 and will be removed in 1.4.\n",
      "  warnings.warn(\n"
     ]
    },
    {
     "name": "stdout",
     "output_type": "stream",
     "text": [
      "Learning rate set to 0.152166\n",
      "0:\tlearn: 0.5336982\ttotal: 46.7ms\tremaining: 4.62s\n",
      "1:\tlearn: 0.4271861\ttotal: 84.7ms\tremaining: 4.15s\n",
      "2:\tlearn: 0.3560125\ttotal: 125ms\tremaining: 4.03s\n",
      "3:\tlearn: 0.3029378\ttotal: 167ms\tremaining: 4.02s\n",
      "4:\tlearn: 0.2603002\ttotal: 211ms\tremaining: 4.02s\n",
      "5:\tlearn: 0.2364007\ttotal: 252ms\tremaining: 3.95s\n",
      "6:\tlearn: 0.2134595\ttotal: 293ms\tremaining: 3.89s\n",
      "7:\tlearn: 0.1957810\ttotal: 336ms\tremaining: 3.86s\n",
      "8:\tlearn: 0.1822947\ttotal: 378ms\tremaining: 3.82s\n",
      "9:\tlearn: 0.1683614\ttotal: 417ms\tremaining: 3.75s\n",
      "10:\tlearn: 0.1610274\ttotal: 459ms\tremaining: 3.72s\n",
      "11:\tlearn: 0.1529592\ttotal: 497ms\tremaining: 3.65s\n",
      "12:\tlearn: 0.1457076\ttotal: 536ms\tremaining: 3.58s\n",
      "13:\tlearn: 0.1393862\ttotal: 576ms\tremaining: 3.54s\n",
      "14:\tlearn: 0.1333184\ttotal: 617ms\tremaining: 3.5s\n",
      "15:\tlearn: 0.1291421\ttotal: 660ms\tremaining: 3.46s\n",
      "16:\tlearn: 0.1252931\ttotal: 699ms\tremaining: 3.41s\n",
      "17:\tlearn: 0.1192121\ttotal: 740ms\tremaining: 3.37s\n",
      "18:\tlearn: 0.1165899\ttotal: 782ms\tremaining: 3.33s\n",
      "19:\tlearn: 0.1132928\ttotal: 828ms\tremaining: 3.31s\n",
      "20:\tlearn: 0.1117269\ttotal: 868ms\tremaining: 3.27s\n",
      "21:\tlearn: 0.1081874\ttotal: 911ms\tremaining: 3.23s\n",
      "22:\tlearn: 0.1048734\ttotal: 950ms\tremaining: 3.18s\n",
      "23:\tlearn: 0.1008293\ttotal: 989ms\tremaining: 3.13s\n",
      "24:\tlearn: 0.0999654\ttotal: 1.03s\tremaining: 3.08s\n",
      "25:\tlearn: 0.0988833\ttotal: 1.06s\tremaining: 3.03s\n",
      "26:\tlearn: 0.0968361\ttotal: 1.1s\tremaining: 2.98s\n",
      "27:\tlearn: 0.0954064\ttotal: 1.15s\tremaining: 2.95s\n",
      "28:\tlearn: 0.0942783\ttotal: 1.19s\tremaining: 2.9s\n",
      "29:\tlearn: 0.0935534\ttotal: 1.22s\tremaining: 2.86s\n",
      "30:\tlearn: 0.0918593\ttotal: 1.26s\tremaining: 2.81s\n",
      "31:\tlearn: 0.0904621\ttotal: 1.3s\tremaining: 2.76s\n",
      "32:\tlearn: 0.0896703\ttotal: 1.34s\tremaining: 2.71s\n",
      "33:\tlearn: 0.0892477\ttotal: 1.38s\tremaining: 2.67s\n",
      "34:\tlearn: 0.0872013\ttotal: 1.42s\tremaining: 2.63s\n",
      "35:\tlearn: 0.0866898\ttotal: 1.46s\tremaining: 2.59s\n",
      "36:\tlearn: 0.0861052\ttotal: 1.49s\tremaining: 2.54s\n",
      "37:\tlearn: 0.0846118\ttotal: 1.53s\tremaining: 2.5s\n",
      "38:\tlearn: 0.0842261\ttotal: 1.57s\tremaining: 2.46s\n",
      "39:\tlearn: 0.0838005\ttotal: 1.62s\tremaining: 2.42s\n",
      "40:\tlearn: 0.0818654\ttotal: 1.67s\tremaining: 2.4s\n",
      "41:\tlearn: 0.0814620\ttotal: 1.7s\tremaining: 2.35s\n",
      "42:\tlearn: 0.0810897\ttotal: 1.74s\tremaining: 2.31s\n",
      "43:\tlearn: 0.0805896\ttotal: 1.78s\tremaining: 2.27s\n",
      "44:\tlearn: 0.0799136\ttotal: 1.82s\tremaining: 2.22s\n",
      "45:\tlearn: 0.0794475\ttotal: 1.86s\tremaining: 2.19s\n",
      "46:\tlearn: 0.0789984\ttotal: 1.9s\tremaining: 2.15s\n",
      "47:\tlearn: 0.0784789\ttotal: 1.94s\tremaining: 2.1s\n",
      "48:\tlearn: 0.0780572\ttotal: 1.98s\tremaining: 2.06s\n",
      "49:\tlearn: 0.0776098\ttotal: 2.02s\tremaining: 2.02s\n",
      "50:\tlearn: 0.0771676\ttotal: 2.06s\tremaining: 1.98s\n",
      "51:\tlearn: 0.0747384\ttotal: 2.1s\tremaining: 1.94s\n",
      "52:\tlearn: 0.0743325\ttotal: 2.14s\tremaining: 1.9s\n",
      "53:\tlearn: 0.0723342\ttotal: 2.18s\tremaining: 1.86s\n",
      "54:\tlearn: 0.0718688\ttotal: 2.22s\tremaining: 1.81s\n",
      "55:\tlearn: 0.0714795\ttotal: 2.25s\tremaining: 1.77s\n",
      "56:\tlearn: 0.0709952\ttotal: 2.29s\tremaining: 1.73s\n",
      "57:\tlearn: 0.0704435\ttotal: 2.34s\tremaining: 1.69s\n",
      "58:\tlearn: 0.0697522\ttotal: 2.38s\tremaining: 1.65s\n",
      "59:\tlearn: 0.0692939\ttotal: 2.42s\tremaining: 1.61s\n",
      "60:\tlearn: 0.0688541\ttotal: 2.46s\tremaining: 1.57s\n",
      "61:\tlearn: 0.0684549\ttotal: 2.5s\tremaining: 1.53s\n",
      "62:\tlearn: 0.0680702\ttotal: 2.54s\tremaining: 1.49s\n",
      "63:\tlearn: 0.0665010\ttotal: 2.58s\tremaining: 1.45s\n",
      "64:\tlearn: 0.0661315\ttotal: 2.62s\tremaining: 1.41s\n",
      "65:\tlearn: 0.0651410\ttotal: 2.67s\tremaining: 1.37s\n",
      "66:\tlearn: 0.0647853\ttotal: 2.71s\tremaining: 1.33s\n",
      "67:\tlearn: 0.0644566\ttotal: 2.75s\tremaining: 1.29s\n",
      "68:\tlearn: 0.0638736\ttotal: 2.78s\tremaining: 1.25s\n",
      "69:\tlearn: 0.0635525\ttotal: 2.83s\tremaining: 1.21s\n",
      "70:\tlearn: 0.0616165\ttotal: 2.87s\tremaining: 1.17s\n",
      "71:\tlearn: 0.0613003\ttotal: 2.9s\tremaining: 1.13s\n",
      "72:\tlearn: 0.0609992\ttotal: 2.95s\tremaining: 1.09s\n",
      "73:\tlearn: 0.0606189\ttotal: 2.98s\tremaining: 1.05s\n",
      "74:\tlearn: 0.0603379\ttotal: 3.02s\tremaining: 1.01s\n",
      "75:\tlearn: 0.0590001\ttotal: 3.06s\tremaining: 968ms\n",
      "76:\tlearn: 0.0587315\ttotal: 3.1s\tremaining: 927ms\n",
      "77:\tlearn: 0.0573341\ttotal: 3.15s\tremaining: 887ms\n",
      "78:\tlearn: 0.0568866\ttotal: 3.19s\tremaining: 848ms\n",
      "79:\tlearn: 0.0558231\ttotal: 3.24s\tremaining: 809ms\n",
      "80:\tlearn: 0.0555578\ttotal: 3.28s\tremaining: 771ms\n",
      "81:\tlearn: 0.0553111\ttotal: 3.33s\tremaining: 732ms\n",
      "82:\tlearn: 0.0550428\ttotal: 3.38s\tremaining: 692ms\n",
      "83:\tlearn: 0.0533445\ttotal: 3.42s\tremaining: 651ms\n",
      "84:\tlearn: 0.0528081\ttotal: 3.46s\tremaining: 610ms\n",
      "85:\tlearn: 0.0525734\ttotal: 3.5s\tremaining: 569ms\n",
      "86:\tlearn: 0.0517311\ttotal: 3.54s\tremaining: 529ms\n",
      "87:\tlearn: 0.0515095\ttotal: 3.58s\tremaining: 488ms\n",
      "88:\tlearn: 0.0511398\ttotal: 3.61s\tremaining: 447ms\n",
      "89:\tlearn: 0.0498771\ttotal: 3.65s\tremaining: 406ms\n",
      "90:\tlearn: 0.0496586\ttotal: 3.7s\tremaining: 366ms\n",
      "91:\tlearn: 0.0494493\ttotal: 3.75s\tremaining: 326ms\n",
      "92:\tlearn: 0.0481708\ttotal: 3.8s\tremaining: 286ms\n",
      "93:\tlearn: 0.0479690\ttotal: 3.85s\tremaining: 245ms\n",
      "94:\tlearn: 0.0475720\ttotal: 3.89s\tremaining: 205ms\n",
      "95:\tlearn: 0.0473793\ttotal: 3.93s\tremaining: 164ms\n",
      "96:\tlearn: 0.0471277\ttotal: 3.98s\tremaining: 123ms\n",
      "97:\tlearn: 0.0465792\ttotal: 4.01s\tremaining: 81.9ms\n",
      "98:\tlearn: 0.0463893\ttotal: 4.05s\tremaining: 40.9ms\n",
      "99:\tlearn: 0.0462141\ttotal: 4.09s\tremaining: 0us\n"
     ]
    },
    {
     "data": {
      "text/plain": [
       "<catboost.core.CatBoostClassifier at 0x1f4f90f7d10>"
      ]
     },
     "execution_count": 10,
     "metadata": {},
     "output_type": "execute_result"
    }
   ],
   "source": [
    "#Ada Boost\n",
    "weak_learner = DecisionTreeClassifier(max_depth=1)\n",
    "ada_classifier = AdaBoostClassifier(base_estimator=weak_learner, n_estimators=50, random_state=42)\n",
    "ada_classifier.fit(X_train, y_train)\n",
    "\n",
    "#Light Gradient Boosting (lighbm)\n",
    "lgb = LGBMClassifier(n_estimators=100, random_state=42, verbosity=-1)  # Set verbosity to -1 to suppress warning\n",
    "lgb.fit(X_train, y_train)\n",
    "\n",
    "\n",
    "# XGBoost classifier\n",
    "xgb_classifier = xgb.XGBClassifier(n_estimators=100, random_state=42)\n",
    "xgb_classifier.fit(X_train, y_train)\n",
    "\n",
    "# CatBoost classifier\n",
    "catboost_classifier = CatBoostClassifier(iterations=100, random_state=42)\n",
    "catboost_classifier.fit(X_train, y_train)\n",
    "\n"
   ]
  },
  {
   "cell_type": "code",
   "execution_count": 11,
   "id": "ca30a657",
   "metadata": {},
   "outputs": [
    {
     "name": "stdout",
     "output_type": "stream",
     "text": [
      "Accuracy of Lightbm                            : 0.9832535885167464\n",
      "Accuracy of Ada Boost                          : 0.979066985645933\n",
      "Accuracy of XGboost                            : 0.9832535885167464\n",
      "Accuracy of Catboost                           : 0.9772727272727273\n"
     ]
    }
   ],
   "source": [
    "# Convert probabilities to binary predictions\n",
    "y_pred = lgb.predict(X_test)\n",
    "y_pred_binary = [1 if pred >= 0.5 else 0 for pred in y_pred]\n",
    "# Calculate the accuracy of the model\n",
    "accuracy = accuracy_score(y_test, y_pred_binary)\n",
    "print(\"Accuracy of Lightbm                            :\", accuracy)\n",
    "\n",
    "# Make predictions on the test set\n",
    "y_pred = ada_classifier.predict(X_test.toarray())\n",
    "# Calculate the accuracy of the model\n",
    "accuracy = accuracy_score(y_test, y_pred)\n",
    "print(\"Accuracy of Ada Boost                          :\", accuracy)\n",
    "\n",
    "\n",
    "# Make predictions on the test set\n",
    "y_pred = xgb_classifier.predict(X_test)\n",
    "# Calculate the accuracy of the model\n",
    "accuracy = accuracy_score(y_test, y_pred)\n",
    "print(\"Accuracy of XGboost                            :\", accuracy)\n",
    "\n",
    "\n",
    "# Make predictions on the test set\n",
    "y_pred = catboost_classifier.predict(X_test)\n",
    "# Calculate the accuracy of the model\n",
    "accuracy = accuracy_score(y_test, y_pred)\n",
    "print(\"Accuracy of Catboost                           :\", accuracy)"
   ]
  },
  {
   "cell_type": "code",
   "execution_count": null,
   "id": "5175d6c7",
   "metadata": {},
   "outputs": [],
   "source": []
  },
  {
   "cell_type": "code",
   "execution_count": null,
   "id": "a530078a",
   "metadata": {},
   "outputs": [],
   "source": []
  },
  {
   "cell_type": "code",
   "execution_count": null,
   "id": "ccc956fc",
   "metadata": {},
   "outputs": [],
   "source": []
  }
 ],
 "metadata": {
  "kernelspec": {
   "display_name": "Python 3 (ipykernel)",
   "language": "python",
   "name": "python3"
  },
  "language_info": {
   "codemirror_mode": {
    "name": "ipython",
    "version": 3
   },
   "file_extension": ".py",
   "mimetype": "text/x-python",
   "name": "python",
   "nbconvert_exporter": "python",
   "pygments_lexer": "ipython3",
   "version": "3.11.3"
  }
 },
 "nbformat": 4,
 "nbformat_minor": 5
}
